{
 "cells": [
  {
   "cell_type": "code",
   "execution_count": 1,
   "metadata": {
    "collapsed": false
   },
   "outputs": [
    {
     "name": "stdout",
     "output_type": "stream",
     "text": [
      "  market_group car_group          pickup_date  pickup_dow lor_group  \\\n",
      "0          LAX         D  2017-02-22 00:00:00           3   LOR:1-4   \n",
      "1          LAX         A  2017-02-22 00:00:00           3   LOR:1-4   \n",
      "2          LAX         B  2017-02-22 00:00:00           3   LOR:1-4   \n",
      "3          LAX         C  2017-02-22 00:00:00           3   LOR:1-4   \n",
      "4          LAX         E  2017-02-22 00:00:00           3   LOR:1-4   \n",
      "\n",
      "    pricing_segment channel_group          last_update  advance_day  \\\n",
      "0  ASSOCIATION BASE       GDS GRP  2017-02-22 10:22:25            0   \n",
      "1  ASSOCIATION BASE       GDS GRP  2017-02-22 10:22:25            0   \n",
      "2  ASSOCIATION BASE       GDS GRP  2017-02-22 10:22:25            0   \n",
      "3  ASSOCIATION BASE       GDS GRP  2017-02-22 10:22:25            0   \n",
      "4  ASSOCIATION BASE       GDS GRP  2017-02-22 10:22:25            0   \n",
      "\n",
      "   avis_price  budget_price  payless_price  hertz_price  dollar_price  \\\n",
      "0        55.0          52.0           31.0         55.0          53.0   \n",
      "1        53.0          53.0           35.0         52.0          50.0   \n",
      "2        52.0          50.0           36.0         53.0          51.0   \n",
      "3        53.0          51.0           37.0         54.0          52.0   \n",
      "4        56.0          53.0           32.0         56.0          54.0   \n",
      "\n",
      "   thrifty_price  enterprise_price  national_price  alamo_price   rate  \n",
      "0           38.0              56.0            75.0         53.0  daily  \n",
      "1           36.0              59.0            73.0         56.0  daily  \n",
      "2           36.0              54.0            73.0         51.0  daily  \n",
      "3           37.0              55.0            74.0         52.0  daily  \n",
      "4           40.0              57.0            76.0         54.0  daily  \n",
      "         pickup_dow   advance_day    avis_price  budget_price  payless_price  \\\n",
      "count  2.145388e+06  2.145388e+06  1.948519e+06  1.917247e+06   1.213126e+06   \n",
      "mean   4.020999e+00  3.462786e+00  1.931001e+02  1.777140e+02   1.790509e+02   \n",
      "std    2.001891e+00  2.162080e+00  1.944198e+02  1.873440e+02   2.307737e+02   \n",
      "min    1.000000e+00  0.000000e+00  1.000000e+01  9.000000e+00   1.000000e+01   \n",
      "25%    2.000000e+00  2.000000e+00  6.400000e+01  5.800000e+01   3.900000e+01   \n",
      "50%    4.000000e+00  3.000000e+00  1.040000e+02  9.600000e+01   9.000000e+01   \n",
      "75%    6.000000e+00  5.000000e+00  2.660000e+02  2.415000e+02   2.485000e+02   \n",
      "max    7.000000e+00  7.000000e+00  2.475000e+03  8.385000e+03   4.461000e+03   \n",
      "\n",
      "        hertz_price  dollar_price  thrifty_price  enterprise_price  \\\n",
      "count  1.514994e+06  1.439357e+06   1.420415e+06      1.836107e+06   \n",
      "mean   1.644845e+02  1.318292e+02   1.281800e+02      1.648815e+02   \n",
      "std    1.895220e+02  1.400023e+02   1.408893e+02      1.664165e+02   \n",
      "min    1.080000e+01  9.000000e+00   7.000000e+00      9.000000e+00   \n",
      "25%    5.900000e+01  4.700000e+01   4.500000e+01      5.500000e+01   \n",
      "50%    8.500000e+01  7.300000e+01   7.300000e+01      8.700000e+01   \n",
      "75%    2.335900e+02  1.995000e+02   1.855000e+02      2.555000e+02   \n",
      "max    5.385000e+03  2.865000e+03   2.805000e+03      5.250000e+03   \n",
      "\n",
      "       national_price   alamo_price  \n",
      "count    1.907288e+06  1.898790e+06  \n",
      "mean     2.098794e+02  1.600979e+02  \n",
      "std      1.996544e+02  1.621028e+02  \n",
      "min      2.000000e+01  9.000000e+00  \n",
      "25%      7.500000e+01  5.200000e+01  \n",
      "50%      1.090000e+02  8.300000e+01  \n",
      "75%      3.120000e+02  2.430000e+02  \n",
      "max      3.465000e+03  3.585000e+03  \n"
     ]
    }
   ],
   "source": [
    "import pandas as pd\n",
    "import numpy as np\n",
    "\n",
    "data = pd.read_csv('PricingData_top_2_markets.csv')\n",
    "print (data.head(5))\n",
    "print(data.describe())"
   ]
  },
  {
   "cell_type": "code",
   "execution_count": 2,
   "metadata": {
    "collapsed": false
   },
   "outputs": [
    {
     "name": "stdout",
     "output_type": "stream",
     "text": [
      "avis_price\n",
      "budget_price\n",
      "payless_price\n",
      "hertz_price\n",
      "dollar_price\n",
      "thrifty_price\n",
      "enterprise_price\n",
      "national_price\n",
      "alamo_price\n"
     ]
    }
   ],
   "source": [
    "for column in data.columns:\n",
    "    if np.any(pd.isnull(data[column])):\n",
    "        print(column)"
   ]
  },
  {
   "cell_type": "code",
   "execution_count": null,
   "metadata": {
    "collapsed": true
   },
   "outputs": [],
   "source": []
  }
 ],
 "metadata": {
  "kernelspec": {
   "display_name": "Python 3",
   "language": "python",
   "name": "python3"
  },
  "language_info": {
   "codemirror_mode": {
    "name": "ipython",
    "version": 3
   },
   "file_extension": ".py",
   "mimetype": "text/x-python",
   "name": "python",
   "nbconvert_exporter": "python",
   "pygments_lexer": "ipython3",
   "version": "3.6.0"
  }
 },
 "nbformat": 4,
 "nbformat_minor": 2
}
